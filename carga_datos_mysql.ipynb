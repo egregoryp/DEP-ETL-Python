{
 "cells": [
  {
   "cell_type": "code",
   "execution_count": 1,
   "metadata": {},
   "outputs": [],
   "source": [
    "import pandas as pd\n",
    "from sqlalchemy import create_engine\n",
    "\n",
    "infile = 'D:\\Datapath\\Code Review 7\\data\\customer'\n",
    "db = 'retail'\n",
    "db_tbl_name = 'customer'"
   ]
  },
  {
   "cell_type": "code",
   "execution_count": 2,
   "metadata": {},
   "outputs": [],
   "source": [
    "'''\n",
    "Create a mapping of df dtypes to mysql data types (not perfect, but close enough)\n",
    "'''\n",
    "def dtype_mapping():\n",
    "    return {'object' : 'TEXT',\n",
    "        'int64' : 'INT',\n",
    "        'float64' : 'FLOAT',\n",
    "        'datetime64' : 'DATETIME',\n",
    "        'bool' : 'TINYINT',\n",
    "        'category' : 'TEXT',\n",
    "        'timedelta[ns]' : 'TEXT'}"
   ]
  },
  {
   "cell_type": "code",
   "execution_count": 12,
   "metadata": {},
   "outputs": [],
   "source": [
    "'''\n",
    "Create a sqlalchemy engine\n",
    "'''\n",
    "def mysql_engine(user = 'root', password = 'Daniel123', host = '', port = '3306', database = 'retail'):\n",
    "    engine = create_engine(\"mysql://{0}:{1}@{2}:{3}/{4}?charset=utf8\".format(user, password, host, port, database))\n",
    "    return engine"
   ]
  },
  {
   "cell_type": "code",
   "execution_count": 4,
   "metadata": {},
   "outputs": [],
   "source": [
    "'''\n",
    "Create a mysql connection from sqlalchemy engine\n",
    "'''\n",
    "def mysql_conn(engine):\n",
    "    conn = engine.raw_connection()\n",
    "    return conn"
   ]
  },
  {
   "cell_type": "code",
   "execution_count": 5,
   "metadata": {},
   "outputs": [],
   "source": [
    "'''\n",
    "Create sql input for table names and types\n",
    "'''\n",
    "def gen_tbl_cols_sql(df):\n",
    "    dmap = dtype_mapping()\n",
    "    sql = \"pi_db_uid INT AUTO_INCREMENT PRIMARY KEY\"\n",
    "    df1 = df.rename(columns = {\"\" : \"nocolname\"})\n",
    "    hdrs = df1.dtypes.index\n",
    "    hdrs_list = [(hdr, str(df1[hdr].dtype)) for hdr in hdrs]\n",
    "    for hl in hdrs_list:\n",
    "        sql += \" ,{0} {1}\".format(hl[0], dmap[hl[1]])\n",
    "    return sql"
   ]
  },
  {
   "cell_type": "code",
   "execution_count": 6,
   "metadata": {},
   "outputs": [],
   "source": [
    "'''\n",
    "Create a mysql table from a df\n",
    "'''\n",
    "def create_mysql_tbl_schema(df, conn, db, tbl_name):\n",
    "    tbl_cols_sql = gen_tbl_cols_sql(df)\n",
    "    sql = \"USE {0}; CREATE TABLE IF NOT EXISTS {1} ({2})\".format(db, tbl_name, tbl_cols_sql)\n",
    "    cur = conn.cursor()\n",
    "    cur.execute(sql)\n",
    "    cur.close()\n",
    "    conn.commit()"
   ]
  },
  {
   "cell_type": "code",
   "execution_count": 7,
   "metadata": {},
   "outputs": [],
   "source": [
    "'''\n",
    "Write df data to newly create mysql table\n",
    "'''\n",
    "def df_to_mysql(df, engine, tbl_name):\n",
    "    df.to_sql(tbl_name, engine, if_exists='replace')"
   ]
  },
  {
   "cell_type": "code",
   "execution_count": 13,
   "metadata": {},
   "outputs": [],
   "source": [
    "infile = 'D:\\Datapath\\Code Review 7\\data\\customer'\n",
    "db = 'retail'\n",
    "db_tbl_name = 'customer'\n",
    "df = pd.read_csv(infile,sep='|', header=None, names=[\"customer_id\",\"customer_fname\",\"customer_lname\",\"customer_email\",\"customer_password\",\"customer_street\",\"customer_city\",\"customer_state\",\"customer_zipcode\"])\n",
    "\n",
    "create_mysql_tbl_schema(df, mysql_conn(mysql_engine()), db, db_tbl_name)\n",
    "df_to_mysql(df, mysql_engine(), db_tbl_name)"
   ]
  },
  {
   "cell_type": "code",
   "execution_count": 18,
   "metadata": {},
   "outputs": [],
   "source": [
    "infile = '../data/orders'\n",
    "db_tbl_name = 'orders'\n",
    "\n",
    "df = pd.read_csv(infile,sep='|', header=None, names=[\"order_id\",\"order_date\",\"order_customer_id\",\"order_status\"])\n",
    "create_mysql_tbl_schema(df, mysql_conn(mysql_engine()), db, db_tbl_name)\n",
    "df_to_mysql(df, mysql_engine(), db_tbl_name)"
   ]
  },
  {
   "cell_type": "code",
   "execution_count": 19,
   "metadata": {},
   "outputs": [],
   "source": [
    "infile = '../data/order_items'\n",
    "db_tbl_name = 'order_items'\n",
    "\n",
    "df = pd.read_csv(infile,sep='|', header=None, names=[\"order_item_id\",\"order_item_order_id\",\"order_item_product_id\",\"order_item_quantity\",\"order_item_subtotal\",\"order_item_product_price\"])\n",
    "create_mysql_tbl_schema(df, mysql_conn(mysql_engine()), db, db_tbl_name)\n",
    "df_to_mysql(df, mysql_engine(), db_tbl_name)"
   ]
  },
  {
   "cell_type": "code",
   "execution_count": 20,
   "metadata": {},
   "outputs": [],
   "source": [
    "infile = '../data/departments'\n",
    "db_tbl_name = 'departments'\n",
    "\n",
    "df = pd.read_csv(infile,sep='|', header=None, names=['department_id', 'department_name'])\n",
    "create_mysql_tbl_schema(df, mysql_conn(mysql_engine()), db, db_tbl_name)\n",
    "df_to_mysql(df, mysql_engine(), db_tbl_name)"
   ]
  },
  {
   "cell_type": "code",
   "execution_count": 21,
   "metadata": {},
   "outputs": [],
   "source": [
    "infile = '../data/categories'\n",
    "db_tbl_name = 'categories'\n",
    "\n",
    "df = pd.read_csv(infile,sep='|', header=None, names=[\"category_id\", \"category_department_id\", \"category_name\"])\n",
    "create_mysql_tbl_schema(df, mysql_conn(mysql_engine()), db, db_tbl_name)\n",
    "df_to_mysql(df, mysql_engine(), db_tbl_name)"
   ]
  },
  {
   "cell_type": "code",
   "execution_count": 22,
   "metadata": {},
   "outputs": [],
   "source": [
    "infile = '../data/products'\n",
    "db_tbl_name = 'products'\n",
    "\n",
    "df = pd.read_csv(infile,sep='|', header=None, names=[\"product_id\",\"product_category_id\",\"product_name\",\"product_description\",\"product_price\",\"product_image\"])\n",
    "create_mysql_tbl_schema(df, mysql_conn(mysql_engine()), db, db_tbl_name)\n",
    "df_to_mysql(df, mysql_engine(), db_tbl_name)"
   ]
  }
 ],
 "metadata": {
  "kernelspec": {
   "display_name": "Python 3",
   "language": "python",
   "name": "python3"
  },
  "language_info": {
   "codemirror_mode": {
    "name": "ipython",
    "version": 3
   },
   "file_extension": ".py",
   "mimetype": "text/x-python",
   "name": "python",
   "nbconvert_exporter": "python",
   "pygments_lexer": "ipython3",
   "version": "3.10.8"
  },
  "orig_nbformat": 4,
  "vscode": {
   "interpreter": {
    "hash": "e48e6fd250f0ea4fee10bfcc671ff602354b92c947b1a83693373f04136418db"
   }
  }
 },
 "nbformat": 4,
 "nbformat_minor": 2
}
