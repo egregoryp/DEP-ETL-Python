{
 "cells": [
  {
   "cell_type": "code",
   "execution_count": 16,
   "metadata": {},
   "outputs": [],
   "source": [
    "import pandas as pd\n",
    "from sqlalchemy import create_engine"
   ]
  },
  {
   "cell_type": "code",
   "execution_count": 17,
   "metadata": {},
   "outputs": [],
   "source": [
    "'''\n",
    "Create a mapping of df dtypes to mysql data types (not perfect, but close enough)\n",
    "'''\n",
    "def dtype_mapping():\n",
    "    return {'object' : 'TEXT',\n",
    "        'int64' : 'INTEGER',\n",
    "        'float64' : 'FLOAT',\n",
    "        'datetime64' : 'TEXT',\n",
    "        'bool' : 'BOOLEAN',\n",
    "        'category' : 'TEXT',\n",
    "        'timedelta[ns]' : 'TEXT'}"
   ]
  },
  {
   "cell_type": "code",
   "execution_count": 18,
   "metadata": {},
   "outputs": [],
   "source": [
    "'''\n",
    "Create a sqlalchemy engine\n",
    "'''\n",
    "def postgresql_engine(user = 'kremlin', password = '123456', host = '127.0.0.1', port = '5432', database = 'retail'):\n",
    "    engine = create_engine(\"postgresql://{0}:{1}@{2}:{3}/{4}\".format(user, password, host, port, database))\n",
    "    return engine"
   ]
  },
  {
   "cell_type": "code",
   "execution_count": 19,
   "metadata": {},
   "outputs": [],
   "source": [
    "'''\n",
    "Create a postgresql connection from sqlalchemy engine\n",
    "'''\n",
    "def postgresql_conn(engine):\n",
    "    conn = engine.raw_connection()\n",
    "    return conn\n"
   ]
  },
  {
   "cell_type": "code",
   "execution_count": 20,
   "metadata": {},
   "outputs": [],
   "source": [
    "'''\n",
    "Create sql input for table names and types\n",
    "'''\n",
    "def gen_tbl_cols_sql(df):\n",
    "    dmap = dtype_mapping()\n",
    "    sql = \"pi_db_uid SERIAL PRIMARY KEY\"\n",
    "    df1 = df.rename(columns = {\"\" : \"nocolname\"})\n",
    "    hdrs = df1.dtypes.index\n",
    "    hdrs_list = [(hdr, str(df1[hdr].dtype)) for hdr in hdrs]\n",
    "    for hl in hdrs_list:\n",
    "        sql += \" ,{0} {1}\".format(hl[0], dmap[hl[1]])\n",
    "    return sql\n"
   ]
  },
  {
   "cell_type": "code",
   "execution_count": 21,
   "metadata": {},
   "outputs": [],
   "source": [
    "'''\n",
    "Create a postgresql table from a df\n",
    "'''\n",
    "def create_postgresql_tbl_schema(df, conn, db, tbl_name):\n",
    "    tbl_cols_sql = gen_tbl_cols_sql(df)\n",
    "    sql = \"CREATE TABLE {1} ({2})\".format(db, tbl_name, tbl_cols_sql)\n",
    "    cur = conn.cursor()\n",
    "    cur.execute(sql)\n",
    "    cur.close()\n",
    "    conn.commit()"
   ]
  },
  {
   "cell_type": "code",
   "execution_count": 22,
   "metadata": {},
   "outputs": [],
   "source": [
    "'''\n",
    "Write df data to newly create postgresql table\n",
    "'''\n",
    "def df_to_postgresql(df, engine, tbl_name):\n",
    "    df.to_sql(tbl_name, engine, if_exists='replace')"
   ]
  },
  {
   "cell_type": "code",
   "execution_count": 24,
   "metadata": {},
   "outputs": [],
   "source": [
    "infile = './data/customer'\n",
    "db = 'retail'\n",
    "db_tbl_name = 'customer'\n",
    "\n",
    "df = pd.read_csv(infile,sep='|', header=None, names=[\"customer_id\",\"customer_fname\",\"customer_lname\",\"customer_email\",\"customer_password\",\"customer_street\",\"customer_city\",\"customer_state\",\"customer_zipcode\"])\n",
    "create_postgresql_tbl_schema(df, postgresql_conn(postgresql_engine()), db, db_tbl_name)\n",
    "df_to_postgresql(df, postgresql_engine(), db_tbl_name)"
   ]
  },
  {
   "cell_type": "code",
   "execution_count": 25,
   "metadata": {},
   "outputs": [],
   "source": [
    "infile = './data/orders'\n",
    "db_tbl_name = 'orders'\n",
    "\n",
    "df = pd.read_csv(infile,sep='|', header=None, names=[\"order_id\",\"order_date\",\"order_customer_id\",\"order_status\"])\n",
    "create_postgresql_tbl_schema(df, postgresql_conn(postgresql_engine()), db, db_tbl_name)\n",
    "df_to_postgresql(df, postgresql_engine(), db_tbl_name)"
   ]
  },
  {
   "cell_type": "code",
   "execution_count": 26,
   "metadata": {},
   "outputs": [],
   "source": [
    "infile = './data/order_items'\n",
    "db_tbl_name = 'order_items'\n",
    "\n",
    "df = pd.read_csv(infile,sep='|', header=None, names=[\"order_item_id\",\"order_item_order_id\",\"order_item_product_id\",\"order_item_quantity\",\"order_item_subtotal\",\"order_item_product_price\"])\n",
    "create_postgresql_tbl_schema(df, postgresql_conn(postgresql_engine()), db, db_tbl_name)\n",
    "df_to_postgresql(df, postgresql_engine(), db_tbl_name)"
   ]
  },
  {
   "cell_type": "code",
   "execution_count": 27,
   "metadata": {},
   "outputs": [],
   "source": [
    "infile = './data/departments'\n",
    "db_tbl_name = 'departments'\n",
    "\n",
    "df = pd.read_csv(infile,sep='|', header=None, names=['department_id', 'department_name'])\n",
    "create_postgresql_tbl_schema(df, postgresql_conn(postgresql_engine()), db, db_tbl_name)\n",
    "df_to_postgresql(df, postgresql_engine(), db_tbl_name)"
   ]
  },
  {
   "cell_type": "code",
   "execution_count": 28,
   "metadata": {},
   "outputs": [],
   "source": [
    "infile = './data/categories'\n",
    "db_tbl_name = 'categories'\n",
    "\n",
    "df = pd.read_csv(infile,sep='|', header=None, names=[\"category_id\", \"category_department_id\", \"category_name\"])\n",
    "create_postgresql_tbl_schema(df, postgresql_conn(postgresql_engine()), db, db_tbl_name)\n",
    "df_to_postgresql(df, postgresql_engine(), db_tbl_name)"
   ]
  },
  {
   "cell_type": "code",
   "execution_count": 29,
   "metadata": {},
   "outputs": [],
   "source": [
    "infile = './data/products'\n",
    "db_tbl_name = 'products'\n",
    "\n",
    "df = pd.read_csv(infile,sep='|', header=None, names=[\"product_id\",\"product_category_id\",\"product_name\",\"product_description\",\"product_price\",\"product_image\"])\n",
    "create_postgresql_tbl_schema(df, postgresql_conn(postgresql_engine()), db, db_tbl_name)\n",
    "df_to_postgresql(df, postgresql_engine(), db_tbl_name)"
   ]
  },
  {
   "cell_type": "code",
   "execution_count": null,
   "metadata": {},
   "outputs": [],
   "source": []
  }
 ],
 "metadata": {
  "kernelspec": {
   "display_name": "Python 3",
   "language": "python",
   "name": "python3"
  },
  "language_info": {
   "codemirror_mode": {
    "name": "ipython",
    "version": 3
   },
   "file_extension": ".py",
   "mimetype": "text/x-python",
   "name": "python",
   "nbconvert_exporter": "python",
   "pygments_lexer": "ipython3",
   "version": "3.9.13 (tags/v3.9.13:6de2ca5, May 17 2022, 16:36:42) [MSC v.1929 64 bit (AMD64)]"
  },
  "orig_nbformat": 4,
  "vscode": {
   "interpreter": {
    "hash": "5a4aefe5433830292dd56e41ad848b6fae049c2ddf8b1ae26c5dfa2d885cad7a"
   }
  }
 },
 "nbformat": 4,
 "nbformat_minor": 2
}
